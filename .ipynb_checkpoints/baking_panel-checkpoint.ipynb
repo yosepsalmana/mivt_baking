{
 "cells": [
  {
   "cell_type": "code",
   "execution_count": 1,
   "id": "1babea35-0f36-4b5d-8b79-876d2825af89",
   "metadata": {},
   "outputs": [],
   "source": [
    "import pandas as pd"
   ]
  },
  {
   "cell_type": "code",
   "execution_count": 2,
   "id": "dbba6e00-d34b-485a-8147-fe2b6f08d91f",
   "metadata": {},
   "outputs": [],
   "source": [
    "file = 'Dataset/raw/12 Desember 2024.xlsx'"
   ]
  },
  {
   "cell_type": "code",
   "execution_count": null,
   "id": "67686f97-9ebc-487b-93c8-62d6da2169cf",
   "metadata": {},
   "outputs": [],
   "source": [
    "final = 'Dataset/cleaned/final_data.xlsx'"
   ]
  },
  {
   "cell_type": "code",
   "execution_count": 3,
   "id": "a3f201b8-5182-4370-ad24-c64c7c04f420",
   "metadata": {},
   "outputs": [
    {
     "name": "stdout",
     "output_type": "stream",
     "text": [
      "Memproses sheet: baking_12_december\n",
      "Memproses sheet: baking_13\n",
      "Memproses sheet: baking_16\n",
      "Memproses sheet: baking_17\n",
      "Memproses sheet: baking_18\n",
      "Memproses sheet: baking_19\n",
      "Memproses sheet: baking_20\n",
      "Memproses sheet: baking_23\n",
      "Memproses sheet: baking_24\n",
      "Memproses sheet: baking_26\n",
      "Memproses sheet: baking_27\n"
     ]
    }
   ],
   "source": [
    "import pandas as pd\n",
    "\n",
    "# Membaca file Excel dengan semua sheet\n",
    "df1 = pd.read_excel(file, sheet_name=None)\n",
    "\n",
    "# List untuk menyimpan semua hasil dari sheet\n",
    "all_data = []\n",
    "\n",
    "# Looping untuk setiap sheet\n",
    "for sheet_name, df in df1.items():\n",
    "    print(f\"Memproses sheet: {sheet_name}\")\n",
    "\n",
    "    # Pastikan df dalam bentuk DataFrame\n",
    "    if isinstance(df, pd.Series):\n",
    "        df = pd.DataFrame(df)\n",
    "\n",
    "    rows = []\n",
    "    for index, row in df.iterrows():\n",
    "        # Baris IN\n",
    "        rows.append({\n",
    "            'no': row['No'],\n",
    "            'model': row['Model'],\n",
    "            'ID pallete': row['ID Pallete'],\n",
    "            'ID box': row['ID Box'],\n",
    "            'Invoice': row['Invoice'],\n",
    "            'Date': row['IN'],\n",
    "            'Time': row['Unnamed: 6'],  # Jam IN\n",
    "            'Status': 'IN',\n",
    "            'Sheet': sheet_name  # Tambahkan kolom sheet_name\n",
    "        })\n",
    "        # Baris OUT\n",
    "        rows.append({\n",
    "            'no': row['No'],\n",
    "            'model': row['Model'],\n",
    "            'ID pallete': row['ID Pallete'],\n",
    "            'ID box': row['ID Box'],\n",
    "            'Invoice': row['Invoice'],\n",
    "            'Date': row['OUT'],\n",
    "            'Time': row['Unnamed: 8'],  # Jam OUT\n",
    "            'Status': 'OUT',\n",
    "            'Sheet': sheet_name  # Tambahkan kolom sheet_name\n",
    "        })\n",
    "\n",
    "    # Menyimpan hasil dari sheet ke list\n",
    "    all_data.extend(rows)\n",
    "\n",
    "# Menggabungkan semua hasil menjadi DataFrame\n",
    "final_df = pd.DataFrame(all_data)\n",
    "final_df = final_df.dropna()\n",
    "final_df = final_df.reset_index(drop=True)"
   ]
  },
  {
   "cell_type": "code",
   "execution_count": 4,
   "id": "976d937d-a5a6-4702-9ae3-65aa0d16da5b",
   "metadata": {},
   "outputs": [
    {
     "data": {
      "text/html": [
       "<div>\n",
       "<style scoped>\n",
       "    .dataframe tbody tr th:only-of-type {\n",
       "        vertical-align: middle;\n",
       "    }\n",
       "\n",
       "    .dataframe tbody tr th {\n",
       "        vertical-align: top;\n",
       "    }\n",
       "\n",
       "    .dataframe thead th {\n",
       "        text-align: right;\n",
       "    }\n",
       "</style>\n",
       "<table border=\"1\" class=\"dataframe\">\n",
       "  <thead>\n",
       "    <tr style=\"text-align: right;\">\n",
       "      <th></th>\n",
       "      <th>no</th>\n",
       "      <th>model</th>\n",
       "      <th>ID pallete</th>\n",
       "      <th>ID box</th>\n",
       "      <th>Invoice</th>\n",
       "      <th>Date</th>\n",
       "      <th>Time</th>\n",
       "      <th>Status</th>\n",
       "      <th>Sheet</th>\n",
       "    </tr>\n",
       "  </thead>\n",
       "  <tbody>\n",
       "    <tr>\n",
       "      <th>0</th>\n",
       "      <td>1.0</td>\n",
       "      <td>V320BJ8-Q01</td>\n",
       "      <td>MF49C0126</td>\n",
       "      <td>0HC1F5849C304E</td>\n",
       "      <td>801983371.0</td>\n",
       "      <td>2024-12-12 00:00:00</td>\n",
       "      <td>14:15:00</td>\n",
       "      <td>IN</td>\n",
       "      <td>baking_12_december</td>\n",
       "    </tr>\n",
       "    <tr>\n",
       "      <th>1</th>\n",
       "      <td>1.0</td>\n",
       "      <td>V320BJ8-Q01</td>\n",
       "      <td>MF49C0126</td>\n",
       "      <td>0HC1F5849C304E</td>\n",
       "      <td>801983371.0</td>\n",
       "      <td>13/13/24</td>\n",
       "      <td>08:10:00</td>\n",
       "      <td>OUT</td>\n",
       "      <td>baking_12_december</td>\n",
       "    </tr>\n",
       "    <tr>\n",
       "      <th>2</th>\n",
       "      <td>2.0</td>\n",
       "      <td>V320BJ8-Q01</td>\n",
       "      <td>MF49C0126</td>\n",
       "      <td>0HC1F5849C3046</td>\n",
       "      <td>801983371.0</td>\n",
       "      <td>2024-12-12 00:00:00</td>\n",
       "      <td>14:15:00</td>\n",
       "      <td>IN</td>\n",
       "      <td>baking_12_december</td>\n",
       "    </tr>\n",
       "    <tr>\n",
       "      <th>3</th>\n",
       "      <td>2.0</td>\n",
       "      <td>V320BJ8-Q01</td>\n",
       "      <td>MF49C0126</td>\n",
       "      <td>0HC1F5849C3046</td>\n",
       "      <td>801983371.0</td>\n",
       "      <td>13/13/24</td>\n",
       "      <td>08:10:00</td>\n",
       "      <td>OUT</td>\n",
       "      <td>baking_12_december</td>\n",
       "    </tr>\n",
       "    <tr>\n",
       "      <th>4</th>\n",
       "      <td>3.0</td>\n",
       "      <td>V320BJ8-Q01</td>\n",
       "      <td>MF49C0126</td>\n",
       "      <td>0HC1F5849C3048</td>\n",
       "      <td>801983371.0</td>\n",
       "      <td>2024-12-12 00:00:00</td>\n",
       "      <td>14:15:00</td>\n",
       "      <td>IN</td>\n",
       "      <td>baking_12_december</td>\n",
       "    </tr>\n",
       "  </tbody>\n",
       "</table>\n",
       "</div>"
      ],
      "text/plain": [
       "    no        model ID pallete          ID box      Invoice  \\\n",
       "0  1.0  V320BJ8-Q01  MF49C0126  0HC1F5849C304E  801983371.0   \n",
       "1  1.0  V320BJ8-Q01  MF49C0126  0HC1F5849C304E  801983371.0   \n",
       "2  2.0  V320BJ8-Q01  MF49C0126  0HC1F5849C3046  801983371.0   \n",
       "3  2.0  V320BJ8-Q01  MF49C0126  0HC1F5849C3046  801983371.0   \n",
       "4  3.0  V320BJ8-Q01  MF49C0126  0HC1F5849C3048  801983371.0   \n",
       "\n",
       "                  Date      Time Status               Sheet  \n",
       "0  2024-12-12 00:00:00  14:15:00     IN  baking_12_december  \n",
       "1             13/13/24  08:10:00    OUT  baking_12_december  \n",
       "2  2024-12-12 00:00:00  14:15:00     IN  baking_12_december  \n",
       "3             13/13/24  08:10:00    OUT  baking_12_december  \n",
       "4  2024-12-12 00:00:00  14:15:00     IN  baking_12_december  "
      ]
     },
     "execution_count": 4,
     "metadata": {},
     "output_type": "execute_result"
    }
   ],
   "source": [
    "final_df.head()"
   ]
  },
  {
   "cell_type": "code",
   "execution_count": 5,
   "id": "721bd41f-a4fd-4ac8-9c2a-7ea3ef33beeb",
   "metadata": {},
   "outputs": [
    {
     "data": {
      "text/plain": [
       "(1872, 9)"
      ]
     },
     "execution_count": 5,
     "metadata": {},
     "output_type": "execute_result"
    }
   ],
   "source": [
    "final_df.shape"
   ]
  },
  {
   "cell_type": "code",
   "execution_count": 6,
   "id": "0a280d55-7890-4bc4-9e6a-03c0db3fcc73",
   "metadata": {},
   "outputs": [
    {
     "name": "stdout",
     "output_type": "stream",
     "text": [
      "<class 'pandas.core.frame.DataFrame'>\n",
      "RangeIndex: 1872 entries, 0 to 1871\n",
      "Data columns (total 9 columns):\n",
      " #   Column      Non-Null Count  Dtype  \n",
      "---  ------      --------------  -----  \n",
      " 0   no          1872 non-null   float64\n",
      " 1   model       1872 non-null   object \n",
      " 2   ID pallete  1872 non-null   object \n",
      " 3   ID box      1872 non-null   object \n",
      " 4   Invoice     1872 non-null   float64\n",
      " 5   Date        1872 non-null   object \n",
      " 6   Time        1872 non-null   object \n",
      " 7   Status      1872 non-null   object \n",
      " 8   Sheet       1872 non-null   object \n",
      "dtypes: float64(2), object(7)\n",
      "memory usage: 131.8+ KB\n"
     ]
    }
   ],
   "source": [
    "final_df.info()"
   ]
  },
  {
   "cell_type": "code",
   "execution_count": 7,
   "id": "a4529959-86fb-48fe-bf9d-858cf50aa0f9",
   "metadata": {},
   "outputs": [],
   "source": [
    "import pandas as pd\n",
    "\n",
    "# Function to correct invalid date formats\n",
    "def correct_invalid_date(date_str):\n",
    "    try:\n",
    "        # Try parsing the date\n",
    "        date = pd.to_datetime(date_str, format='%d/%m/%y', errors='raise')\n",
    "        return date\n",
    "    except ValueError:\n",
    "        # If invalid date, try to fix it\n",
    "        parts = date_str.split('/')\n",
    "        if len(parts) == 3:\n",
    "            day, month, year = parts\n",
    "            # Convert 2-digit year to 4-digit year (e.g., '24' becomes '2024')\n",
    "            if len(year) == 2:\n",
    "                year = '20' + year\n",
    "            # Adjust invalid months (greater than 12) to 12\n",
    "            if int(month) > 12:\n",
    "                month = '12'\n",
    "            # Return a corrected date in the desired format\n",
    "            return f\"{year}-{month}-{day} 00:00:00\"\n",
    "        else:\n",
    "            return 'Invalid Date'\n",
    "\n",
    "final_df['Date'] = final_df['Date'].apply(correct_invalid_date)\n",
    "\n",
    "final_df['Date'] = pd.to_datetime(final_df['Date'], errors='coerce').dt.strftime('%Y-%m-%d 00:00:00')\n"
   ]
  },
  {
   "cell_type": "code",
   "execution_count": 8,
   "id": "3b9ebfee-6c47-4e27-a0f0-ba6d16faf0ea",
   "metadata": {},
   "outputs": [
    {
     "data": {
      "text/html": [
       "<div>\n",
       "<style scoped>\n",
       "    .dataframe tbody tr th:only-of-type {\n",
       "        vertical-align: middle;\n",
       "    }\n",
       "\n",
       "    .dataframe tbody tr th {\n",
       "        vertical-align: top;\n",
       "    }\n",
       "\n",
       "    .dataframe thead th {\n",
       "        text-align: right;\n",
       "    }\n",
       "</style>\n",
       "<table border=\"1\" class=\"dataframe\">\n",
       "  <thead>\n",
       "    <tr style=\"text-align: right;\">\n",
       "      <th></th>\n",
       "      <th>no</th>\n",
       "      <th>model</th>\n",
       "      <th>ID pallete</th>\n",
       "      <th>ID box</th>\n",
       "      <th>Invoice</th>\n",
       "      <th>Date</th>\n",
       "      <th>Time</th>\n",
       "      <th>Status</th>\n",
       "      <th>Sheet</th>\n",
       "    </tr>\n",
       "  </thead>\n",
       "  <tbody>\n",
       "    <tr>\n",
       "      <th>0</th>\n",
       "      <td>1.0</td>\n",
       "      <td>V320BJ8-Q01</td>\n",
       "      <td>MF49C0126</td>\n",
       "      <td>0HC1F5849C304E</td>\n",
       "      <td>801983371.0</td>\n",
       "      <td>2024-12-12 00:00:00</td>\n",
       "      <td>14:15:00</td>\n",
       "      <td>IN</td>\n",
       "      <td>baking_12_december</td>\n",
       "    </tr>\n",
       "    <tr>\n",
       "      <th>1</th>\n",
       "      <td>1.0</td>\n",
       "      <td>V320BJ8-Q01</td>\n",
       "      <td>MF49C0126</td>\n",
       "      <td>0HC1F5849C304E</td>\n",
       "      <td>801983371.0</td>\n",
       "      <td>2024-12-13 00:00:00</td>\n",
       "      <td>08:10:00</td>\n",
       "      <td>OUT</td>\n",
       "      <td>baking_12_december</td>\n",
       "    </tr>\n",
       "    <tr>\n",
       "      <th>2</th>\n",
       "      <td>2.0</td>\n",
       "      <td>V320BJ8-Q01</td>\n",
       "      <td>MF49C0126</td>\n",
       "      <td>0HC1F5849C3046</td>\n",
       "      <td>801983371.0</td>\n",
       "      <td>2024-12-12 00:00:00</td>\n",
       "      <td>14:15:00</td>\n",
       "      <td>IN</td>\n",
       "      <td>baking_12_december</td>\n",
       "    </tr>\n",
       "    <tr>\n",
       "      <th>3</th>\n",
       "      <td>2.0</td>\n",
       "      <td>V320BJ8-Q01</td>\n",
       "      <td>MF49C0126</td>\n",
       "      <td>0HC1F5849C3046</td>\n",
       "      <td>801983371.0</td>\n",
       "      <td>2024-12-13 00:00:00</td>\n",
       "      <td>08:10:00</td>\n",
       "      <td>OUT</td>\n",
       "      <td>baking_12_december</td>\n",
       "    </tr>\n",
       "    <tr>\n",
       "      <th>4</th>\n",
       "      <td>3.0</td>\n",
       "      <td>V320BJ8-Q01</td>\n",
       "      <td>MF49C0126</td>\n",
       "      <td>0HC1F5849C3048</td>\n",
       "      <td>801983371.0</td>\n",
       "      <td>2024-12-12 00:00:00</td>\n",
       "      <td>14:15:00</td>\n",
       "      <td>IN</td>\n",
       "      <td>baking_12_december</td>\n",
       "    </tr>\n",
       "  </tbody>\n",
       "</table>\n",
       "</div>"
      ],
      "text/plain": [
       "    no        model ID pallete          ID box      Invoice  \\\n",
       "0  1.0  V320BJ8-Q01  MF49C0126  0HC1F5849C304E  801983371.0   \n",
       "1  1.0  V320BJ8-Q01  MF49C0126  0HC1F5849C304E  801983371.0   \n",
       "2  2.0  V320BJ8-Q01  MF49C0126  0HC1F5849C3046  801983371.0   \n",
       "3  2.0  V320BJ8-Q01  MF49C0126  0HC1F5849C3046  801983371.0   \n",
       "4  3.0  V320BJ8-Q01  MF49C0126  0HC1F5849C3048  801983371.0   \n",
       "\n",
       "                  Date      Time Status               Sheet  \n",
       "0  2024-12-12 00:00:00  14:15:00     IN  baking_12_december  \n",
       "1  2024-12-13 00:00:00  08:10:00    OUT  baking_12_december  \n",
       "2  2024-12-12 00:00:00  14:15:00     IN  baking_12_december  \n",
       "3  2024-12-13 00:00:00  08:10:00    OUT  baking_12_december  \n",
       "4  2024-12-12 00:00:00  14:15:00     IN  baking_12_december  "
      ]
     },
     "execution_count": 8,
     "metadata": {},
     "output_type": "execute_result"
    }
   ],
   "source": [
    "final_df.head()"
   ]
  },
  {
   "cell_type": "code",
   "execution_count": 9,
   "id": "7188a869-3827-4552-af38-86eaf744fdf3",
   "metadata": {},
   "outputs": [
    {
     "data": {
      "text/plain": [
       "array(['2024-12-12 00:00:00', '2024-12-13 00:00:00',\n",
       "       '2024-12-14 00:00:00', '2024-12-16 00:00:00',\n",
       "       '2024-12-17 00:00:00', '2024-12-18 00:00:00',\n",
       "       '2024-12-19 00:00:00', '2024-12-20 00:00:00',\n",
       "       '2024-12-21 00:00:00', '2024-12-23 00:00:00',\n",
       "       '2024-12-24 00:00:00', '2024-12-26 00:00:00',\n",
       "       '2024-12-27 00:00:00', '2024-12-28 00:00:00'], dtype=object)"
      ]
     },
     "execution_count": 9,
     "metadata": {},
     "output_type": "execute_result"
    }
   ],
   "source": [
    "final_df['Date'].unique()"
   ]
  },
  {
   "cell_type": "code",
   "execution_count": 10,
   "id": "b017b42a-df4c-4362-b082-f1eaf8be9310",
   "metadata": {},
   "outputs": [
    {
     "data": {
      "text/plain": [
       "array([datetime.time(14, 15), datetime.time(8, 10), datetime.time(8, 45),\n",
       "       datetime.time(15, 45), datetime.time(16, 30), datetime.time(9, 30),\n",
       "       datetime.time(8, 0), datetime.time(16, 10), datetime.time(16, 35),\n",
       "       datetime.time(9, 20), datetime.time(7, 45), datetime.time(8, 20),\n",
       "       datetime.time(8, 25), datetime.time(7, 50), datetime.time(8, 30)],\n",
       "      dtype=object)"
      ]
     },
     "execution_count": 10,
     "metadata": {},
     "output_type": "execute_result"
    }
   ],
   "source": [
    "final_df['Time'].unique()"
   ]
  },
  {
   "cell_type": "code",
   "execution_count": 11,
   "id": "37f17c3e-9cb3-48fb-a600-9f84538dc864",
   "metadata": {},
   "outputs": [],
   "source": [
    "final_df['Invoice'] = final_df['Invoice'].astype(int)"
   ]
  },
  {
   "cell_type": "code",
   "execution_count": 12,
   "id": "af0cda21-d258-413e-bdfd-2689c12f2964",
   "metadata": {},
   "outputs": [],
   "source": [
    "final_df['no'] = final_df['no'].astype(int)"
   ]
  },
  {
   "cell_type": "code",
   "execution_count": 13,
   "id": "ece61297-28ed-4857-8b6c-06a3f4913596",
   "metadata": {},
   "outputs": [
    {
     "data": {
      "text/html": [
       "<div>\n",
       "<style scoped>\n",
       "    .dataframe tbody tr th:only-of-type {\n",
       "        vertical-align: middle;\n",
       "    }\n",
       "\n",
       "    .dataframe tbody tr th {\n",
       "        vertical-align: top;\n",
       "    }\n",
       "\n",
       "    .dataframe thead th {\n",
       "        text-align: right;\n",
       "    }\n",
       "</style>\n",
       "<table border=\"1\" class=\"dataframe\">\n",
       "  <thead>\n",
       "    <tr style=\"text-align: right;\">\n",
       "      <th></th>\n",
       "      <th>no</th>\n",
       "      <th>model</th>\n",
       "      <th>ID pallete</th>\n",
       "      <th>ID box</th>\n",
       "      <th>Invoice</th>\n",
       "      <th>Date</th>\n",
       "      <th>Time</th>\n",
       "      <th>Status</th>\n",
       "      <th>Sheet</th>\n",
       "    </tr>\n",
       "  </thead>\n",
       "  <tbody>\n",
       "    <tr>\n",
       "      <th>0</th>\n",
       "      <td>1</td>\n",
       "      <td>V320BJ8-Q01</td>\n",
       "      <td>MF49C0126</td>\n",
       "      <td>0HC1F5849C304E</td>\n",
       "      <td>801983371</td>\n",
       "      <td>2024-12-12 00:00:00</td>\n",
       "      <td>14:15:00</td>\n",
       "      <td>IN</td>\n",
       "      <td>baking_12_december</td>\n",
       "    </tr>\n",
       "    <tr>\n",
       "      <th>1</th>\n",
       "      <td>1</td>\n",
       "      <td>V320BJ8-Q01</td>\n",
       "      <td>MF49C0126</td>\n",
       "      <td>0HC1F5849C304E</td>\n",
       "      <td>801983371</td>\n",
       "      <td>2024-12-13 00:00:00</td>\n",
       "      <td>08:10:00</td>\n",
       "      <td>OUT</td>\n",
       "      <td>baking_12_december</td>\n",
       "    </tr>\n",
       "    <tr>\n",
       "      <th>2</th>\n",
       "      <td>2</td>\n",
       "      <td>V320BJ8-Q01</td>\n",
       "      <td>MF49C0126</td>\n",
       "      <td>0HC1F5849C3046</td>\n",
       "      <td>801983371</td>\n",
       "      <td>2024-12-12 00:00:00</td>\n",
       "      <td>14:15:00</td>\n",
       "      <td>IN</td>\n",
       "      <td>baking_12_december</td>\n",
       "    </tr>\n",
       "    <tr>\n",
       "      <th>3</th>\n",
       "      <td>2</td>\n",
       "      <td>V320BJ8-Q01</td>\n",
       "      <td>MF49C0126</td>\n",
       "      <td>0HC1F5849C3046</td>\n",
       "      <td>801983371</td>\n",
       "      <td>2024-12-13 00:00:00</td>\n",
       "      <td>08:10:00</td>\n",
       "      <td>OUT</td>\n",
       "      <td>baking_12_december</td>\n",
       "    </tr>\n",
       "    <tr>\n",
       "      <th>4</th>\n",
       "      <td>3</td>\n",
       "      <td>V320BJ8-Q01</td>\n",
       "      <td>MF49C0126</td>\n",
       "      <td>0HC1F5849C3048</td>\n",
       "      <td>801983371</td>\n",
       "      <td>2024-12-12 00:00:00</td>\n",
       "      <td>14:15:00</td>\n",
       "      <td>IN</td>\n",
       "      <td>baking_12_december</td>\n",
       "    </tr>\n",
       "  </tbody>\n",
       "</table>\n",
       "</div>"
      ],
      "text/plain": [
       "   no        model ID pallete          ID box    Invoice                 Date  \\\n",
       "0   1  V320BJ8-Q01  MF49C0126  0HC1F5849C304E  801983371  2024-12-12 00:00:00   \n",
       "1   1  V320BJ8-Q01  MF49C0126  0HC1F5849C304E  801983371  2024-12-13 00:00:00   \n",
       "2   2  V320BJ8-Q01  MF49C0126  0HC1F5849C3046  801983371  2024-12-12 00:00:00   \n",
       "3   2  V320BJ8-Q01  MF49C0126  0HC1F5849C3046  801983371  2024-12-13 00:00:00   \n",
       "4   3  V320BJ8-Q01  MF49C0126  0HC1F5849C3048  801983371  2024-12-12 00:00:00   \n",
       "\n",
       "       Time Status               Sheet  \n",
       "0  14:15:00     IN  baking_12_december  \n",
       "1  08:10:00    OUT  baking_12_december  \n",
       "2  14:15:00     IN  baking_12_december  \n",
       "3  08:10:00    OUT  baking_12_december  \n",
       "4  14:15:00     IN  baking_12_december  "
      ]
     },
     "execution_count": 13,
     "metadata": {},
     "output_type": "execute_result"
    }
   ],
   "source": [
    "final_df.head()"
   ]
  },
  {
   "cell_type": "code",
   "execution_count": 14,
   "id": "ab3f647c-b536-4027-b79c-cd3097aae016",
   "metadata": {},
   "outputs": [
    {
     "data": {
      "text/plain": [
       "936"
      ]
     },
     "execution_count": 14,
     "metadata": {},
     "output_type": "execute_result"
    }
   ],
   "source": [
    "final_df['ID box'].nunique()"
   ]
  },
  {
   "cell_type": "code",
   "execution_count": 15,
   "id": "7577c247-04ff-4486-9a4f-a61e878677b2",
   "metadata": {},
   "outputs": [],
   "source": [
    "final_df['Date'] = pd.to_datetime(final_df['Date'], errors='coerce')  # Invalid dates will become NaT\n",
    "final_df['Date'] = final_df['Date'].dt.strftime('%d %B %Y')"
   ]
  },
  {
   "cell_type": "code",
   "execution_count": 16,
   "id": "5e00090e-6a00-4491-a395-11342052373e",
   "metadata": {},
   "outputs": [],
   "source": [
    "final_df['Time'] = pd.to_datetime(final_df['Time'], format='%H:%M:%S', errors='coerce').dt.strftime('%H:%M')"
   ]
  },
  {
   "cell_type": "code",
   "execution_count": 17,
   "id": "7435521e-6efd-47e1-99d8-f0ea438e1061",
   "metadata": {},
   "outputs": [
    {
     "data": {
      "text/html": [
       "<div>\n",
       "<style scoped>\n",
       "    .dataframe tbody tr th:only-of-type {\n",
       "        vertical-align: middle;\n",
       "    }\n",
       "\n",
       "    .dataframe tbody tr th {\n",
       "        vertical-align: top;\n",
       "    }\n",
       "\n",
       "    .dataframe thead th {\n",
       "        text-align: right;\n",
       "    }\n",
       "</style>\n",
       "<table border=\"1\" class=\"dataframe\">\n",
       "  <thead>\n",
       "    <tr style=\"text-align: right;\">\n",
       "      <th></th>\n",
       "      <th>no</th>\n",
       "      <th>model</th>\n",
       "      <th>ID pallete</th>\n",
       "      <th>ID box</th>\n",
       "      <th>Invoice</th>\n",
       "      <th>Date</th>\n",
       "      <th>Time</th>\n",
       "      <th>Status</th>\n",
       "      <th>Sheet</th>\n",
       "    </tr>\n",
       "  </thead>\n",
       "  <tbody>\n",
       "    <tr>\n",
       "      <th>0</th>\n",
       "      <td>1</td>\n",
       "      <td>V320BJ8-Q01</td>\n",
       "      <td>MF49C0126</td>\n",
       "      <td>0HC1F5849C304E</td>\n",
       "      <td>801983371</td>\n",
       "      <td>12 December 2024</td>\n",
       "      <td>14:15</td>\n",
       "      <td>IN</td>\n",
       "      <td>baking_12_december</td>\n",
       "    </tr>\n",
       "    <tr>\n",
       "      <th>1</th>\n",
       "      <td>1</td>\n",
       "      <td>V320BJ8-Q01</td>\n",
       "      <td>MF49C0126</td>\n",
       "      <td>0HC1F5849C304E</td>\n",
       "      <td>801983371</td>\n",
       "      <td>13 December 2024</td>\n",
       "      <td>08:10</td>\n",
       "      <td>OUT</td>\n",
       "      <td>baking_12_december</td>\n",
       "    </tr>\n",
       "    <tr>\n",
       "      <th>2</th>\n",
       "      <td>2</td>\n",
       "      <td>V320BJ8-Q01</td>\n",
       "      <td>MF49C0126</td>\n",
       "      <td>0HC1F5849C3046</td>\n",
       "      <td>801983371</td>\n",
       "      <td>12 December 2024</td>\n",
       "      <td>14:15</td>\n",
       "      <td>IN</td>\n",
       "      <td>baking_12_december</td>\n",
       "    </tr>\n",
       "    <tr>\n",
       "      <th>3</th>\n",
       "      <td>2</td>\n",
       "      <td>V320BJ8-Q01</td>\n",
       "      <td>MF49C0126</td>\n",
       "      <td>0HC1F5849C3046</td>\n",
       "      <td>801983371</td>\n",
       "      <td>13 December 2024</td>\n",
       "      <td>08:10</td>\n",
       "      <td>OUT</td>\n",
       "      <td>baking_12_december</td>\n",
       "    </tr>\n",
       "    <tr>\n",
       "      <th>4</th>\n",
       "      <td>3</td>\n",
       "      <td>V320BJ8-Q01</td>\n",
       "      <td>MF49C0126</td>\n",
       "      <td>0HC1F5849C3048</td>\n",
       "      <td>801983371</td>\n",
       "      <td>12 December 2024</td>\n",
       "      <td>14:15</td>\n",
       "      <td>IN</td>\n",
       "      <td>baking_12_december</td>\n",
       "    </tr>\n",
       "  </tbody>\n",
       "</table>\n",
       "</div>"
      ],
      "text/plain": [
       "   no        model ID pallete          ID box    Invoice              Date  \\\n",
       "0   1  V320BJ8-Q01  MF49C0126  0HC1F5849C304E  801983371  12 December 2024   \n",
       "1   1  V320BJ8-Q01  MF49C0126  0HC1F5849C304E  801983371  13 December 2024   \n",
       "2   2  V320BJ8-Q01  MF49C0126  0HC1F5849C3046  801983371  12 December 2024   \n",
       "3   2  V320BJ8-Q01  MF49C0126  0HC1F5849C3046  801983371  13 December 2024   \n",
       "4   3  V320BJ8-Q01  MF49C0126  0HC1F5849C3048  801983371  12 December 2024   \n",
       "\n",
       "    Time Status               Sheet  \n",
       "0  14:15     IN  baking_12_december  \n",
       "1  08:10    OUT  baking_12_december  \n",
       "2  14:15     IN  baking_12_december  \n",
       "3  08:10    OUT  baking_12_december  \n",
       "4  14:15     IN  baking_12_december  "
      ]
     },
     "execution_count": 17,
     "metadata": {},
     "output_type": "execute_result"
    }
   ],
   "source": [
    "final_df.head()"
   ]
  },
  {
   "cell_type": "code",
   "execution_count": 18,
   "id": "1c073371-08a8-4129-8069-23decc8f5c50",
   "metadata": {},
   "outputs": [
    {
     "data": {
      "text/plain": [
       "array(['12 December 2024', '13 December 2024', '14 December 2024',\n",
       "       '16 December 2024', '17 December 2024', '18 December 2024',\n",
       "       '19 December 2024', '20 December 2024', '21 December 2024',\n",
       "       '23 December 2024', '24 December 2024', '26 December 2024',\n",
       "       '27 December 2024', '28 December 2024'], dtype=object)"
      ]
     },
     "execution_count": 18,
     "metadata": {},
     "output_type": "execute_result"
    }
   ],
   "source": [
    "final_df['Date'].unique()"
   ]
  },
  {
   "cell_type": "code",
   "execution_count": 19,
   "id": "de654130-89d5-441f-b284-3f12e5e59e9c",
   "metadata": {},
   "outputs": [
    {
     "data": {
      "text/plain": [
       "no            0\n",
       "model         0\n",
       "ID pallete    0\n",
       "ID box        0\n",
       "Invoice       0\n",
       "Date          0\n",
       "Time          0\n",
       "Status        0\n",
       "Sheet         0\n",
       "dtype: int64"
      ]
     },
     "execution_count": 19,
     "metadata": {},
     "output_type": "execute_result"
    }
   ],
   "source": [
    "final_df.isnull().sum()"
   ]
  },
  {
   "cell_type": "code",
   "execution_count": 20,
   "id": "ff269672-cd5b-42ed-9bdf-202edd582e95",
   "metadata": {},
   "outputs": [],
   "source": [
    "final_df.dropna(inplace=True)"
   ]
  },
  {
   "cell_type": "code",
   "execution_count": 21,
   "id": "6a058693-1c52-4acb-af59-bd874eb1836d",
   "metadata": {},
   "outputs": [
    {
     "data": {
      "text/plain": [
       "array(['12 December 2024', '13 December 2024', '14 December 2024',\n",
       "       '16 December 2024', '17 December 2024', '18 December 2024',\n",
       "       '19 December 2024', '20 December 2024', '21 December 2024',\n",
       "       '23 December 2024', '24 December 2024', '26 December 2024',\n",
       "       '27 December 2024', '28 December 2024'], dtype=object)"
      ]
     },
     "execution_count": 21,
     "metadata": {},
     "output_type": "execute_result"
    }
   ],
   "source": [
    "final_df['Date'].unique()"
   ]
  },
  {
   "cell_type": "code",
   "execution_count": 22,
   "id": "1cd13198-b48e-443e-9d63-931efa705510",
   "metadata": {},
   "outputs": [
    {
     "data": {
      "text/plain": [
       "no            0\n",
       "model         0\n",
       "ID pallete    0\n",
       "ID box        0\n",
       "Invoice       0\n",
       "Date          0\n",
       "Time          0\n",
       "Status        0\n",
       "Sheet         0\n",
       "dtype: int64"
      ]
     },
     "execution_count": 22,
     "metadata": {},
     "output_type": "execute_result"
    }
   ],
   "source": [
    "final_df.isnull().sum()"
   ]
  },
  {
   "cell_type": "code",
   "execution_count": 23,
   "id": "4657802e-375d-481a-8414-00abe6598e40",
   "metadata": {},
   "outputs": [],
   "source": [
    "final_df.to_excel('Dataset/cleaned/final_data.xlsx', index=False)"
   ]
  }
 ],
 "metadata": {
  "kernelspec": {
   "display_name": "Python 3 (ipykernel)",
   "language": "python",
   "name": "python3"
  },
  "language_info": {
   "codemirror_mode": {
    "name": "ipython",
    "version": 3
   },
   "file_extension": ".py",
   "mimetype": "text/x-python",
   "name": "python",
   "nbconvert_exporter": "python",
   "pygments_lexer": "ipython3",
   "version": "3.12.3"
  }
 },
 "nbformat": 4,
 "nbformat_minor": 5
}
